{
 "cells": [
  {
   "cell_type": "code",
   "execution_count": 1,
   "metadata": {},
   "outputs": [
    {
     "name": "stdout",
     "output_type": "stream",
     "text": [
      "Welcome to\n",
      "      ____              __\n",
      "     / __/__  ___ _____/ /__\n",
      "    _\\ \\/ _ \\/ _ `/ __/  '_/\n",
      "   /__ / .__/\\_,_/_/ /_/\\_\\   version 2.1.1\n",
      "      /_/\n",
      "\n",
      "Using Python version 2.7.12 (default, Nov 19 2016 06:48:10)\n",
      "SparkSession available as 'spark'.\n"
     ]
    }
   ],
   "source": [
    "import os\n",
    "execfile(os.path.join(os.environ[\"SPARK_HOME\"], 'python/pyspark/shell.py'))"
   ]
  },
  {
   "cell_type": "code",
   "execution_count": 2,
   "metadata": {},
   "outputs": [],
   "source": [
    "from pyspark.sql import SparkSession\n",
    "sparkSession = SparkSession.builder.enableHiveSupport().master(\"local [2]\").getOrCreate()"
   ]
  },
  {
   "cell_type": "code",
   "execution_count": 3,
   "metadata": {},
   "outputs": [],
   "source": [
    "from pyspark.sql.functions import explode, collect_list, size, col, row_number, sort_array, udf, count\n",
    "from pyspark.sql import Window\n",
    "from pyspark.sql.types import *"
   ]
  },
  {
   "cell_type": "code",
   "execution_count": 4,
   "metadata": {},
   "outputs": [
    {
     "name": "stdout",
     "output_type": "stream",
     "text": [
      "root\n",
      " |-- friend: integer (nullable = true)\n",
      " |-- users: array (nullable = true)\n",
      " |    |-- element: integer (containsNull = true)\n",
      " |-- users_size: integer (nullable = false)\n",
      "\n",
      "+------+--------------------+----------+\n",
      "|friend|               users|users_size|\n",
      "+------+--------------------+----------+\n",
      "|   148|[65051219, 146311...|         4|\n",
      "|  5518|          [58573511]|         1|\n",
      "|  9900|          [36844066]|         1|\n",
      "| 10362|          [65278216]|         1|\n",
      "| 11458|          [39169321]|         1|\n",
      "+------+--------------------+----------+\n",
      "only showing top 5 rows\n",
      "\n"
     ]
    }
   ],
   "source": [
    "graphPath = \"/data/graphDFSample\"\n",
    "\n",
    "reversedGraph = sparkSession.read.parquet(graphPath) \\\n",
    "    .withColumn(\"friend\", explode('friends')) \\\n",
    "    .groupBy(\"friend\") \\\n",
    "    .agg(collect_list(\"user\").alias(\"users\")) \\\n",
    "    .withColumn(\"users_size\", size(\"users\")) \\\n",
    "    \n",
    "reversedGraph.printSchema()\n",
    "reversedGraph.show(5)    "
   ]
  },
  {
   "cell_type": "code",
   "execution_count": 5,
   "metadata": {},
   "outputs": [
    {
     "name": "stdout",
     "output_type": "stream",
     "text": [
      "+------+--------------------+----------+\n",
      "|friend|        users_sorted|users_size|\n",
      "+------+--------------------+----------+\n",
      "| 36538|[5506394, 6170161...|        32|\n",
      "| 76756|[2387712, 3274722...|        33|\n",
      "| 93319|[12426490, 295206...|         8|\n",
      "+------+--------------------+----------+\n",
      "only showing top 3 rows\n",
      "\n"
     ]
    }
   ],
   "source": [
    "reversedGraph = reversedGraph.select(reversedGraph.friend, \\\n",
    "                                     sort_array(reversedGraph.users).alias(\"users_sorted\"), \\\n",
    "                                     \"users_size\") \\\n",
    "                            .where(reversedGraph.users_size > '1')\n",
    "reversedGraph.show(3)"
   ]
  },
  {
   "cell_type": "code",
   "execution_count": 6,
   "metadata": {},
   "outputs": [],
   "source": [
    "def create_pairs(in_list):\n",
    "    pairs = []\n",
    "    count_f1 = 0\n",
    "    while count_f1 < len(in_list):\n",
    "        for count_f2 in range (count_f1 + 1, len(in_list)):\n",
    "            pairs.append((in_list[count_f1], in_list[count_f2]))\n",
    "        count_f1 += 1\n",
    "    return(pairs)\n",
    "\n",
    "pairs_udf = udf(lambda y: create_pairs(y), \n",
    "                     ArrayType(StructType(\n",
    "                         (StructField(\"f1\", IntegerType(), True),\n",
    "                          StructField(\"f2\", IntegerType(), True)))))\n",
    "\n"
   ]
  },
  {
   "cell_type": "code",
   "execution_count": 7,
   "metadata": {},
   "outputs": [
    {
     "name": "stdout",
     "output_type": "stream",
     "text": [
      "root\n",
      " |-- users: array (nullable = true)\n",
      " |    |-- element: struct (containsNull = true)\n",
      " |    |    |-- f1: integer (nullable = true)\n",
      " |    |    |-- f2: integer (nullable = true)\n",
      " |-- users_size: integer (nullable = false)\n",
      "\n",
      "+--------------------+----------+\n",
      "|               users|users_size|\n",
      "+--------------------+----------+\n",
      "|[[5506394,6170161...|        32|\n",
      "|[[2387712,3274722...|        33|\n",
      "|[[12426490,295206...|         8|\n",
      "|[[2661492,4271861...|         6|\n",
      "|[[2974302,1086021...|         7|\n",
      "+--------------------+----------+\n",
      "only showing top 5 rows\n",
      "\n"
     ]
    }
   ],
   "source": [
    "reversedGraph = reversedGraph.select(pairs_udf(reversedGraph.users_sorted).alias(\"users\"), \\\n",
    "                                    \"users_size\")\n",
    "reversedGraph.printSchema()\n",
    "reversedGraph.show(5)"
   ]
  },
  {
   "cell_type": "code",
   "execution_count": 11,
   "metadata": {},
   "outputs": [
    {
     "name": "stdout",
     "output_type": "stream",
     "text": [
      "+------------------+\n",
      "|               col|\n",
      "+------------------+\n",
      "| [5506394,6170161]|\n",
      "| [5506394,6846874]|\n",
      "|[5506394,15305594]|\n",
      "+------------------+\n",
      "only showing top 3 rows\n",
      "\n"
     ]
    }
   ],
   "source": [
    "rg1 = reversedGraph.select(explode(reversedGraph.users))\n",
    "rg1.show(3)"
   ]
  },
  {
   "cell_type": "code",
   "execution_count": 12,
   "metadata": {},
   "outputs": [
    {
     "name": "stdout",
     "output_type": "stream",
     "text": [
      "+--------+--------+-----+\n",
      "|      f1|      f2|count|\n",
      "+--------+--------+-----+\n",
      "|19016678|27967558|   25|\n",
      "|35731241|63987222| 1272|\n",
      "|38837335|60011356|    2|\n",
      "|40003405|41101961|   26|\n",
      "| 3274722|37391049|  100|\n",
      "|13805420|30729314|   12|\n",
      "|32763426|42099418|    8|\n",
      "| 6170161|44110626|   79|\n",
      "| 6956945|44284974|  181|\n",
      "|21121725|33793439|  218|\n",
      "+--------+--------+-----+\n",
      "only showing top 10 rows\n",
      "\n"
     ]
    }
   ],
   "source": [
    "rg2 = rg1.select('col.f1', 'col.f2')\n",
    "rg2.show(10)"
   ]
  },
  {
   "cell_type": "code",
   "execution_count": 13,
   "metadata": {},
   "outputs": [
    {
     "name": "stdout",
     "output_type": "stream",
     "text": [
      "+--------+--------+-----+\n",
      "|      f1|      f2|count|\n",
      "+--------+--------+-----+\n",
      "|19016678|27967558|    1|\n",
      "|35731241|63987222|    1|\n",
      "|38837335|60011356|    1|\n",
      "|40003405|41101961|    1|\n",
      "| 3274722|37391049|    1|\n",
      "|13805420|30729314|    1|\n",
      "|32763426|42099418|    1|\n",
      "| 6170161|44110626|    1|\n",
      "| 6956945|44284974|    1|\n",
      "|21121725|33793439|    1|\n",
      "+--------+--------+-----+\n",
      "only showing top 10 rows\n",
      "\n"
     ]
    }
   ],
   "source": [
    "rg3 = rg2.groupBy(\"f1\", \"f2\").agg(count(\"*\").alias(\"count\"))\n",
    "rg3.show(10)"
   ]
  },
  {
   "cell_type": "code",
   "execution_count": 16,
   "metadata": {},
   "outputs": [],
   "source": [
    "window = Window.orderBy(col(\"count\").desc())\n",
    "    \n",
    "top50 = rg3.withColumn(\"row_number\", row_number().over(window)) \\\n",
    "            .filter(col(\"row_number\") < 50) \\\n",
    "            .select(col(\"count\"), col(\"f1\"), col(\"f2\")) \\\n",
    "            .orderBy(col(\"count\").desc(), col(\"f1\").desc()) \\\n",
    "            .collect()"
   ]
  },
  {
   "cell_type": "code",
   "execution_count": 17,
   "metadata": {},
   "outputs": [
    {
     "name": "stdout",
     "output_type": "stream",
     "text": [
      "1 62936623 64819882\n",
      "1 42899683 57516788\n",
      "1 41609464 52942230\n",
      "1 40697455 56271262\n",
      "1 40003405 41101961\n",
      "1 39314779 50516758\n",
      "1 38837335 60011356\n",
      "1 38436695 43700485\n",
      "1 37250279 63589057\n",
      "1 35731241 63987222\n",
      "1 35335957 47237327\n",
      "1 33141665 59403447\n",
      "1 32763426 42099418\n",
      "1 31455939 51755669\n",
      "1 30829221 31455939\n",
      "1 30829221 62439121\n",
      "1 25556203 33990604\n",
      "1 24659937 45915446\n",
      "1 23651273 56351013\n",
      "1 23374539 60440950\n",
      "1 23263517 51633283\n",
      "1 21121725 33793439\n",
      "1 20240688 50516758\n",
      "1 19016678 27967558\n",
      "1 16793490 21364043\n",
      "1 16684463 51126236\n",
      "1 16501143 49958374\n",
      "1 15479903 41574601\n",
      "1 13805420 30729314\n",
      "1 12426490 39865897\n",
      "1 12378179 23612791\n",
      "1 11794870 51268556\n",
      "1 10812639 42899683\n",
      "1 10481998 40675360\n",
      "1 10318279 39892770\n",
      "1 9554168 55608231\n",
      "1 8961437 59403447\n",
      "1 8609655 8819098\n",
      "1 6956945 44284974\n",
      "1 6170161 44110626\n",
      "1 5143474 30127398\n",
      "1 4858076 51633283\n",
      "1 4437374 5854674\n",
      "1 3274722 37391049\n",
      "1 2932270 14241359\n",
      "1 1836499 49951442\n",
      "1 1021695 62936623\n",
      "1 525850 34092512\n",
      "1 262805 25701054\n"
     ]
    }
   ],
   "source": [
    "for val in top50:\n",
    "    print '%s %s %s' % val"
   ]
  },
  {
   "cell_type": "code",
   "execution_count": null,
   "metadata": {},
   "outputs": [],
   "source": []
  }
 ],
 "metadata": {
  "kernelspec": {
   "display_name": "Python 2",
   "language": "python",
   "name": "python2"
  },
  "language_info": {
   "codemirror_mode": {
    "name": "ipython",
    "version": 2
   },
   "file_extension": ".py",
   "mimetype": "text/x-python",
   "name": "python",
   "nbconvert_exporter": "python",
   "pygments_lexer": "ipython2",
   "version": "2.7.12"
  }
 },
 "nbformat": 4,
 "nbformat_minor": 2
}
